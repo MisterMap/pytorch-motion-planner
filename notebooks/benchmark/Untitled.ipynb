{
 "cells": [
  {
   "cell_type": "code",
   "execution_count": 38,
   "id": "158820fa-5b03-4d8c-9509-7483ce0ab35b",
   "metadata": {},
   "outputs": [],
   "source": [
    "from nbdev.merge import extract_cells, get_md_cell, analyze_cell, nbdev_fix_merge\n",
    "from nbdev.export import read_nb"
   ]
  },
  {
   "cell_type": "code",
   "execution_count": 39,
   "id": "cbd731ef-7a09-45b0-9263-8284301873a0",
   "metadata": {},
   "outputs": [],
   "source": [
    "with open('corridor_experiment.ipynb', 'r') as f:\n",
    "    nb = f.read()"
   ]
  },
  {
   "cell_type": "code",
   "execution_count": 44,
   "id": "b6ea4b80-97ac-4dbd-bc9d-5b743dbe1261",
   "metadata": {},
   "outputs": [
    {
     "name": "stdout",
     "output_type": "stream",
     "text": [
      "One or more conflict remains in the notebook, please inspect manually.\n"
     ]
    }
   ],
   "source": [
    "nbdev_fix_merge('forest_experiment.ipynb', trust_us=True, fast=False)"
   ]
  },
  {
   "cell_type": "code",
   "execution_count": 31,
   "id": "6f90fc27-e281-49eb-8345-ac6029d23cf8",
   "metadata": {},
   "outputs": [],
   "source": [
    "# cells = extract_cells(nb)"
   ]
  },
  {
   "cell_type": "code",
   "execution_count": 33,
   "id": "97789e8b-92ac-4070-a824-cb8393f95982",
   "metadata": {},
   "outputs": [],
   "source": [
    "# new_cells = []\n",
    "# for c in cells:\n",
    "#     new_cells.append(get_md_cell(c))"
   ]
  },
  {
   "cell_type": "code",
   "execution_count": 35,
   "id": "25593766-062c-4c42-a022-eb1496e0b417",
   "metadata": {},
   "outputs": [],
   "source": []
  },
  {
   "cell_type": "code",
   "execution_count": null,
   "id": "d09416cc-687d-4f39-bf87-172752c5a446",
   "metadata": {},
   "outputs": [],
   "source": []
  }
 ],
 "metadata": {
  "kernelspec": {
   "display_name": "Python 3 (ipykernel)",
   "language": "python",
   "name": "python3"
  },
  "language_info": {
   "codemirror_mode": {
    "name": "ipython",
    "version": 3
   },
   "file_extension": ".py",
   "mimetype": "text/x-python",
   "name": "python",
   "nbconvert_exporter": "python",
   "pygments_lexer": "ipython3",
   "version": "3.9.10"
  }
 },
 "nbformat": 4,
 "nbformat_minor": 5
}
